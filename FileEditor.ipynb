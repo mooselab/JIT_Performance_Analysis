{
 "cells": [
  {
   "cell_type": "markdown",
   "id": "3e6db105-253c-4b41-b2e2-97fe008f31c7",
   "metadata": {},
   "source": [
    "### Finding the main method of a java file and adding @Benchmark annotation"
   ]
  },
  {
   "cell_type": "markdown",
   "id": "c793dd34-b46c-4836-b489-b6f79715ed0b",
   "metadata": {},
   "source": [
    "This program will iterate over every file in the directory and add @Benchmark tag over each function."
   ]
  },
  {
   "cell_type": "code",
   "execution_count": 39,
   "id": "204ff9aa-0cfb-44cc-8e86-20d35c3caa81",
   "metadata": {},
   "outputs": [
    {
     "name": "stdout",
     "output_type": "stream",
     "text": [
      "Completed annotation for file : ForwardBackward.java \n",
      "Completed annotation for file : Recursive.java \n",
      "Completed annotation for file : Shifting.java \n"
     ]
    }
   ],
   "source": [
    "import os\n",
    "import re\n",
    "\n",
    "# Define the folder containing Java files\n",
    "folder_path = r'C:\\Users\\Mettle\\Desktop\\Java-master\\java-combinations\\src\\main\\java\\com\\hmkcode'\n",
    "\n",
    "# Create the 'benchmark_files' folder if it doesn't exist\n",
    "if not os.path.exists('benchmark_files'):\n",
    "    os.makedirs('benchmark_files')\n",
    "\n",
    "# Function to process each Java file\n",
    "def process_java_file(java_file_path):\n",
    "    benchmark_file_path = os.path.join('benchmark_files', os.path.basename(java_file_path))\n",
    "    add_benchmark_annotation(java_file_path, benchmark_file_path)\n",
    "    add_counters(benchmark_file_path)\n",
    "    method_invocation_annotation(benchmark_file_path)\n",
    "   \n",
    "# Iterate over each file in the folder\n",
    "for file_name in os.listdir(folder_path):\n",
    "    if file_name.endswith('.java'):\n",
    "        file_path = os.path.join(folder_path, file_name)\n",
    "        process_java_file(file_path)\n",
    "        print(f\"Completed annotation for file : {file_name} \")\n"
   ]
  },
  {
   "cell_type": "markdown",
   "id": "5cab5b9a-2d4b-49f9-b3ae-0c050d45e39c",
   "metadata": {},
   "source": [
    "#### Loop counter"
   ]
  },
  {
   "cell_type": "markdown",
   "id": "c553d0ad-1976-4a90-be21-bb00cf18b5b0",
   "metadata": {},
   "source": [
    "*Currently not handling case with loops without braces.*"
   ]
  },
  {
   "cell_type": "code",
   "execution_count": 16,
   "id": "d1fdf559-bb59-4e5a-8244-713c196ec384",
   "metadata": {},
   "outputs": [],
   "source": [
    "def add_counters(file_path):\n",
    "    with open(file_path, 'r') as file:\n",
    "            java_code = file.read()\n",
    "    # Regex pattern for finding for loops and while loops\n",
    "    pattern = r'(?P<loop>(for\\s*\\([^\\)]*\\)\\s*\\{)|(while\\s*\\([^\\)]*\\)\\s*\\{))'\n",
    "    \n",
    "    def add_counter(match):\n",
    "        loop = match.group('loop')\n",
    "        return loop + '\\n    counter++;'\n",
    "    \n",
    "    # Replace each loop with the loop plus counter++\n",
    "    modified_java_code = re.sub(pattern, add_counter, java_code)\n",
    "    with open(file_path, 'w') as file:\n",
    "        file.write(modified_java_code)"
   ]
  },
  {
   "cell_type": "markdown",
   "id": "8afbe892-3588-4713-b559-34fc72f244aa",
   "metadata": {},
   "source": [
    "#### @Benchmark Annotation"
   ]
  },
  {
   "cell_type": "code",
   "execution_count": 17,
   "id": "9a0d1066-9a92-4f1c-a1e2-03b2382451fc",
   "metadata": {},
   "outputs": [],
   "source": [
    "def add_benchmark_annotation(file_path, benchmark_file_path):\n",
    "    pattern = r'(?<!\\/\\/)(?<!\\/\\*)\\b(?:public\\s+|private\\s+|protected\\s+|static\\s+|final\\s+|native\\s+|synchronized\\s+|abstract\\s+|transient\\s+)*[\\$_\\w<>\\[\\]]*\\s+\\w+\\s*\\([^\\)]*\\)?\\s*\\{'\n",
    "\n",
    "    with open(file_path, 'r') as file:\n",
    "        java_code = file.read()\n",
    "\n",
    "    # Find all occurrences of method declarations in the Java code\n",
    "    matches = re.finditer(pattern, java_code)\n",
    "\n",
    "    modified_java_code = ''\n",
    "    previous_end_index = 0\n",
    "\n",
    "    # Loop through each method occurrence\n",
    "    for match in matches:\n",
    "        start_index = match.start()\n",
    "        end_index = match.end()\n",
    "        \n",
    "        method_declaration = java_code[start_index:end_index]\n",
    "        \n",
    "        # Insert @Benchmark annotation just above the method declaration\n",
    "        modified_java_code += java_code[previous_end_index:start_index] + '@Benchmark\\n' + method_declaration\n",
    "\n",
    "        previous_end_index = end_index\n",
    "\n",
    "    modified_java_code += java_code[previous_end_index:]\n",
    "    with open(benchmark_file_path, 'w') as file:\n",
    "        file.write(modified_java_code)"
   ]
  },
  {
   "cell_type": "markdown",
   "id": "302ebcf6-df6c-493e-90a3-55709e87819b",
   "metadata": {},
   "source": [
    "#### Count method invocation values"
   ]
  },
  {
   "cell_type": "code",
   "execution_count": 38,
   "id": "73787349-7e31-4974-94c2-00320c8eae95",
   "metadata": {},
   "outputs": [],
   "source": [
    "def method_invocation_annotation(file_path):\n",
    "    method_pattern = r'(?P<method>(?<!\\/\\/)(?<!\\/\\*)\\b(?:public\\s+|private\\s+|protected\\s+|static\\s+|final\\s+|native\\s+|synchronized\\s+|abstract\\s+|transient\\s+)*[\\$_\\w<>\\[\\]]*\\s+\\w+\\s*\\([^\\)]*\\)\\s*\\{[^\\}]*?\\})'\n",
    "    with open(file_path, 'r') as file:\n",
    "        java_code = file.read()\n",
    "    def add_counter(match):\n",
    "        method = match.group()\n",
    "        modified_method = method.replace('{', '{\\n    method_counter++;\\n')\n",
    "        return modified_method\n",
    "\n",
    "    # Replace each method with additional code added inside\n",
    "    modified_java_code = re.sub(method_pattern, add_counter, java_code)\n",
    "    with open(file_path, 'w') as file:\n",
    "        file.write(modified_java_code)"
   ]
  },
  {
   "cell_type": "markdown",
   "id": "7e131558-8d65-418e-aa71-8814bcd2ecbe",
   "metadata": {},
   "source": [
    "# Getting Codeforces submissions"
   ]
  },
  {
   "cell_type": "markdown",
   "id": "a7c79329-86bd-432a-8de9-60144297e090",
   "metadata": {},
   "source": [
    "### Generate URL"
   ]
  },
  {
   "cell_type": "code",
   "execution_count": 36,
   "id": "d0bfd351-d379-4df9-a216-4e0d84b930c8",
   "metadata": {},
   "outputs": [
    {
     "name": "stdout",
     "output_type": "stream",
     "text": [
      "https://codeforces.com/api/contest.status?apiKey=baa5c566fa5bdeb92494876e5bcac06b6798d8fe&contestId=1928&count=10&time=1711413914&apiSig=130957081ae1579f90fc8bfe86521d4e4bbf9f1ef9aaed015a20af13493145f5710054423168220f9ce7ba5368d0a47b53214ab34d57323966b48faabccc4c1624f223\n"
     ]
    }
   ],
   "source": [
    "import requests\n",
    "import hashlib\n",
    "import time\n",
    "import random\n",
    "key = \"\"\n",
    "secret = \"\"\n",
    "\n",
    "current_time = int(time.time())\n",
    "random_number = random.randint(100000, 999999)\n",
    "method_fetched = \"contest.status\"\n",
    "string_to_hash = f\"{random_number}/{method_fetched}?apiKey={key}&contestId=1928&count=10&time={current_time}#{secret}\"\n",
    "sha512_hash = hashlib.sha512(string_to_hash.encode()).hexdigest()\n",
    "req_url = f\"https://codeforces.com/api/{method_fetched}?apiKey={key}&contestId=1928&count=10&time={current_time}&apiSig={random_number}{sha512_hash}\"\n",
    "print(req_url)"
   ]
  },
  {
   "cell_type": "code",
   "execution_count": null,
   "id": "d7409cde-548f-4055-b8a5-55c483b2330d",
   "metadata": {},
   "outputs": [],
   "source": [
    "reponse = request.get()"
   ]
  },
  {
   "cell_type": "code",
   "execution_count": null,
   "id": "2232d031-4501-456e-bdb5-e0dd4dc97aa2",
   "metadata": {},
   "outputs": [],
   "source": []
  }
 ],
 "metadata": {
  "kernelspec": {
   "display_name": "Python 3 (ipykernel)",
   "language": "python",
   "name": "python3"
  },
  "language_info": {
   "codemirror_mode": {
    "name": "ipython",
    "version": 3
   },
   "file_extension": ".py",
   "mimetype": "text/x-python",
   "name": "python",
   "nbconvert_exporter": "python",
   "pygments_lexer": "ipython3",
   "version": "3.11.5"
  }
 },
 "nbformat": 4,
 "nbformat_minor": 5
}
