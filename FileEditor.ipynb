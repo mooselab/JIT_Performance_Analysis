{
 "cells": [
  {
   "cell_type": "markdown",
   "id": "3e6db105-253c-4b41-b2e2-97fe008f31c7",
   "metadata": {},
   "source": [
    "### Finding the main method of a java file and adding @Benchmark annotation"
   ]
  },
  {
   "cell_type": "code",
   "execution_count": 25,
   "id": "3b596b05-03a7-4c9f-9250-de36994d3826",
   "metadata": {
    "tags": []
   },
   "outputs": [
    {
     "name": "stdout",
     "output_type": "stream",
     "text": [
      "<re.Match object; span=(26, 66), match='public static void main(String[] args) {'>\n",
      "<re.Match object; span=(373, 402), match='public int sum(int a, int b){'>\n"
     ]
    }
   ],
   "source": [
    "import re\n",
    "\n",
    "# Define the path to the Java file\n",
    "java_file_path = 'sample.java'\n",
    "\n",
    "with open(java_file_path, 'r') as file:\n",
    "    java_code = file.read()\n",
    "\n",
    "pattern = r'(?<!\\/\\/)(?<!\\/\\*)\\b(?:public\\s+|private\\s+|protected\\s+|static\\s+|final\\s+|native\\s+|synchronized\\s+|abstract\\s+|transient\\s+)*[\\$_\\w<>\\[\\]]*\\s+\\w+\\s*\\([^\\)]*\\)?\\s*\\{'\n",
    "\n",
    "\n",
    "# Find all occurrences of method declarations in the Java code\n",
    "matches = re.finditer(pattern, java_code)\n",
    "\n",
    "modified_java_code = ''\n",
    "previous_end_index = 0\n",
    "\n",
    "# Loop through each method occurrence\n",
    "for match in matches:\n",
    "    \n",
    "    start_index = match.start()\n",
    "    end_index = match.end()\n",
    "\n",
    "    method_declaration = java_code[start_index:end_index]\n",
    "\n",
    "    # Insert @Benchmark annotation just above the method declaration\n",
    "    modified_java_code += java_code[previous_end_index:start_index] + '@Benchmark\\n' + method_declaration\n",
    "\n",
    "    previous_end_index = end_index\n",
    "\n",
    "modified_java_code += java_code[previous_end_index:]\n",
    "\n",
    "# Write the modified Java code back to the file\n",
    "with open(java_file_path, 'w') as file:\n",
    "    file.write(modified_java_code)"
   ]
  },
  {
   "cell_type": "code",
   "execution_count": null,
   "id": "204ff9aa-0cfb-44cc-8e86-20d35c3caa81",
   "metadata": {},
   "outputs": [],
   "source": []
  },
  {
   "cell_type": "code",
   "execution_count": null,
   "id": "bfabe191-1a01-471a-908f-2f1473367ff1",
   "metadata": {},
   "outputs": [],
   "source": []
  }
 ],
 "metadata": {
  "kernelspec": {
   "display_name": "Python 3 (ipykernel)",
   "language": "python",
   "name": "python3"
  },
  "language_info": {
   "codemirror_mode": {
    "name": "ipython",
    "version": 3
   },
   "file_extension": ".py",
   "mimetype": "text/x-python",
   "name": "python",
   "nbconvert_exporter": "python",
   "pygments_lexer": "ipython3",
   "version": "3.11.5"
  }
 },
 "nbformat": 4,
 "nbformat_minor": 5
}
