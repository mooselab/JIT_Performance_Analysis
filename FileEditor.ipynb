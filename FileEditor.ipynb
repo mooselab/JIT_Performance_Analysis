{
 "cells": [
  {
   "cell_type": "markdown",
   "id": "3e6db105-253c-4b41-b2e2-97fe008f31c7",
   "metadata": {},
   "source": [
    "### Finding the main method of a java file and adding @Benchmark annotation"
   ]
  },
  {
   "cell_type": "code",
   "execution_count": 1,
   "id": "3b596b05-03a7-4c9f-9250-de36994d3826",
   "metadata": {
    "tags": []
   },
   "outputs": [],
   "source": [
    "import re\n",
    "\n",
    "with open('sample.java', 'r') as file:\n",
    "    java_code = file.read()\n",
    "\n",
    "pattern = r'public static void main\\(String\\[\\] args\\) \\{'\n",
    "\n",
    "match = re.search(pattern, java_code)\n",
    "if match:\n",
    "    start_index = match.start()\n",
    "    end_index = match.end()\n",
    "\n",
    "    # Insert @Benchmark annotation just above the main method\n",
    "    modified_java_code = java_code[:start_index] + '@Benchmark\\n' + java_code[start_index:end_index] + java_code[end_index:]\n",
    "\n",
    "    with open('sample.java', 'w') as file:\n",
    "        file.write(modified_java_code)\n",
    "else:\n",
    "    print(\"Main method not found in the Java file.\")\n"
   ]
  },
  {
   "cell_type": "code",
   "execution_count": null,
   "id": "0049eb84-78d1-4e5f-9267-a5036b0fba21",
   "metadata": {},
   "outputs": [],
   "source": []
  }
 ],
 "metadata": {
  "kernelspec": {
   "display_name": "Python 3 (ipykernel)",
   "language": "python",
   "name": "python3"
  },
  "language_info": {
   "codemirror_mode": {
    "name": "ipython",
    "version": 3
   },
   "file_extension": ".py",
   "mimetype": "text/x-python",
   "name": "python",
   "nbconvert_exporter": "python",
   "pygments_lexer": "ipython3",
   "version": "3.11.5"
  }
 },
 "nbformat": 4,
 "nbformat_minor": 5
}
