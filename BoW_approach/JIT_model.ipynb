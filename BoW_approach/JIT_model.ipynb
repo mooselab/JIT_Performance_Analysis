{
 "cells": [
  {
   "cell_type": "markdown",
   "id": "3e6db105-253c-4b41-b2e2-97fe008f31c7",
   "metadata": {},
   "source": [
    "### Finding the main method of a java file and adding @Benchmark annotation"
   ]
  },
  {
   "cell_type": "markdown",
   "id": "c793dd34-b46c-4836-b489-b6f79715ed0b",
   "metadata": {},
   "source": [
    "This program will iterate over every file in the directory and add @Benchmark tag over each function."
   ]
  },
  {
   "cell_type": "code",
   "execution_count": 4,
   "id": "204ff9aa-0cfb-44cc-8e86-20d35c3caa81",
   "metadata": {},
   "outputs": [
    {
     "ename": "FileNotFoundError",
     "evalue": "[Errno 2] No such file or directory: 'C:\\\\Users\\\\Mettle\\\\Desktop\\\\Java-master\\\\java-combinations\\\\src\\\\main\\\\java\\\\com\\\\hmkcode'",
     "output_type": "error",
     "traceback": [
      "\u001b[0;31m---------------------------------------------------------------------------\u001b[0m",
      "\u001b[0;31mFileNotFoundError\u001b[0m                         Traceback (most recent call last)",
      "Cell \u001b[0;32mIn[4], line 19\u001b[0m\n\u001b[1;32m     16\u001b[0m     method_invocation_annotation(benchmark_file_path)\n\u001b[1;32m     18\u001b[0m \u001b[38;5;66;03m# Iterate over each file in the folder\u001b[39;00m\n\u001b[0;32m---> 19\u001b[0m \u001b[38;5;28;01mfor\u001b[39;00m file_name \u001b[38;5;129;01min\u001b[39;00m os\u001b[38;5;241m.\u001b[39mlistdir(folder_path):\n\u001b[1;32m     20\u001b[0m     \u001b[38;5;28;01mif\u001b[39;00m file_name\u001b[38;5;241m.\u001b[39mendswith(\u001b[38;5;124m'\u001b[39m\u001b[38;5;124m.java\u001b[39m\u001b[38;5;124m'\u001b[39m):\n\u001b[1;32m     21\u001b[0m         file_path \u001b[38;5;241m=\u001b[39m os\u001b[38;5;241m.\u001b[39mpath\u001b[38;5;241m.\u001b[39mjoin(folder_path, file_name)\n",
      "\u001b[0;31mFileNotFoundError\u001b[0m: [Errno 2] No such file or directory: 'C:\\\\Users\\\\Mettle\\\\Desktop\\\\Java-master\\\\java-combinations\\\\src\\\\main\\\\java\\\\com\\\\hmkcode'"
     ]
    }
   ],
   "source": [
    "import os\n",
    "import re\n",
    "\n",
    "# Define the folder containing Java files\n",
    "folder_path = r'C:\\Users\\Mettle\\Desktop\\Java-master\\java-combinations\\src\\main\\java\\com\\hmkcode'\n",
    "\n",
    "# Create the 'benchmark_files' folder if it doesn't exist\n",
    "if not os.path.exists('benchmark_files'):\n",
    "    os.makedirs('benchmark_files')\n",
    "\n",
    "# Function to process each Java file\n",
    "def process_java_file(java_file_path):\n",
    "    benchmark_file_path = os.path.join('benchmark_files', os.path.basename(java_file_path))\n",
    "    add_benchmark_annotation(java_file_path, benchmark_file_path)\n",
    "    add_counters(benchmark_file_path)\n",
    "    method_invocation_annotation(benchmark_file_path)\n",
    "   \n",
    "# Iterate over each file in the folder\n",
    "for file_name in os.listdir(folder_path):\n",
    "    if file_name.endswith('.java'):\n",
    "        file_path = os.path.join(folder_path, file_name)\n",
    "        process_java_file(file_path)\n",
    "        print(f\"Completed annotation for file : {file_name} \")\n"
   ]
  },
  {
   "cell_type": "markdown",
   "id": "5cab5b9a-2d4b-49f9-b3ae-0c050d45e39c",
   "metadata": {},
   "source": [
    "#### Loop counter"
   ]
  },
  {
   "cell_type": "markdown",
   "id": "c553d0ad-1976-4a90-be21-bb00cf18b5b0",
   "metadata": {},
   "source": [
    "*Currently not handling case with loops without braces.*"
   ]
  },
  {
   "cell_type": "code",
   "execution_count": 16,
   "id": "d1fdf559-bb59-4e5a-8244-713c196ec384",
   "metadata": {},
   "outputs": [],
   "source": [
    "def add_counters(file_path):\n",
    "    with open(file_path, 'r') as file:\n",
    "            java_code = file.read()\n",
    "    # Regex pattern for finding for loops and while loops\n",
    "    pattern = r'(?P<loop>(for\\s*\\([^\\)]*\\)\\s*\\{)|(while\\s*\\([^\\)]*\\)\\s*\\{))'\n",
    "    \n",
    "    def add_counter(match):\n",
    "        loop = match.group('loop')\n",
    "        return loop + '\\n    counter++;'\n",
    "    \n",
    "    # Replace each loop with the loop plus counter++\n",
    "    modified_java_code = re.sub(pattern, add_counter, java_code)\n",
    "    with open(file_path, 'w') as file:\n",
    "        file.write(modified_java_code)"
   ]
  },
  {
   "cell_type": "markdown",
   "id": "8afbe892-3588-4713-b559-34fc72f244aa",
   "metadata": {},
   "source": [
    "#### @Benchmark Annotation"
   ]
  },
  {
   "cell_type": "code",
   "execution_count": 17,
   "id": "9a0d1066-9a92-4f1c-a1e2-03b2382451fc",
   "metadata": {},
   "outputs": [],
   "source": [
    "def add_benchmark_annotation(file_path, benchmark_file_path):\n",
    "    pattern = r'(?<!\\/\\/)(?<!\\/\\*)\\b(?:public\\s+|private\\s+|protected\\s+|static\\s+|final\\s+|native\\s+|synchronized\\s+|abstract\\s+|transient\\s+)*[\\$_\\w<>\\[\\]]*\\s+\\w+\\s*\\([^\\)]*\\)?\\s*\\{'\n",
    "\n",
    "    with open(file_path, 'r') as file:\n",
    "        java_code = file.read()\n",
    "\n",
    "    # Find all occurrences of method declarations in the Java code\n",
    "    matches = re.finditer(pattern, java_code)\n",
    "\n",
    "    modified_java_code = ''\n",
    "    previous_end_index = 0\n",
    "\n",
    "    # Loop through each method occurrence\n",
    "    for match in matches:\n",
    "        start_index = match.start()\n",
    "        end_index = match.end()\n",
    "        \n",
    "        method_declaration = java_code[start_index:end_index]\n",
    "        \n",
    "        # Insert @Benchmark annotation just above the method declaration\n",
    "        modified_java_code += java_code[previous_end_index:start_index] + '@Benchmark\\n' + method_declaration\n",
    "\n",
    "        previous_end_index = end_index\n",
    "\n",
    "    modified_java_code += java_code[previous_end_index:]\n",
    "    with open(benchmark_file_path, 'w') as file:\n",
    "        file.write(modified_java_code)"
   ]
  },
  {
   "cell_type": "markdown",
   "id": "302ebcf6-df6c-493e-90a3-55709e87819b",
   "metadata": {},
   "source": [
    "#### Count method invocation values"
   ]
  },
  {
   "cell_type": "code",
   "execution_count": 51,
   "id": "73787349-7e31-4974-94c2-00320c8eae95",
   "metadata": {},
   "outputs": [],
   "source": [
    "def method_invocation_annotation(file_path):\n",
    "    method_pattern = r'(?P<method>(?<!\\/\\/)(?<!\\/\\*)\\b(?:public\\s+|private\\s+|protected\\s+|static\\s+|final\\s+|native\\s+|synchronized\\s+|abstract\\s+|transient\\s+)*[\\$_\\w<>\\[\\]]*\\s+\\w+\\s*\\([^\\)]*\\)\\s*\\{[^\\}]*?\\})'\n",
    "    with open(file_path, 'r') as file:\n",
    "        java_code = file.read()\n",
    "    def add_counter(match):\n",
    "        method = match.group()\n",
    "        modified_method = method.replace('{', '{\\n    method_counter++;\\n')\n",
    "        return modified_method\n",
    "\n",
    "    # Replace each method with additional code added inside\n",
    "    modified_java_code = re.sub(method_pattern, add_counter, java_code)\n",
    "    with open(file_path, 'w') as file:\n",
    "        file.write(modified_java_code)"
   ]
  },
  {
   "cell_type": "markdown",
   "id": "7e131558-8d65-418e-aa71-8814bcd2ecbe",
   "metadata": {},
   "source": [
    "# Getting Codeforces submissions"
   ]
  },
  {
   "cell_type": "markdown",
   "id": "a7c79329-86bd-432a-8de9-60144297e090",
   "metadata": {},
   "source": [
    "### Generate URL"
   ]
  },
  {
   "cell_type": "code",
   "execution_count": 8,
   "id": "d0bfd351-d379-4df9-a216-4e0d84b930c8",
   "metadata": {
    "tags": []
   },
   "outputs": [],
   "source": [
    "import requests\n",
    "import hashlib\n",
    "import time\n",
    "import random\n",
    "from bs4 import BeautifulSoup\n",
    "def get_url(from_val):\n",
    "    key = \"baa5c566fa5bdeb92494876e5bcac06b6798d8fe\"\n",
    "    secret = \"0d686bfc8a3c654a569b93e3d1d12803d25264f1\"\n",
    "    count = 1000\n",
    "    current_time = int(time.time())\n",
    "    random_number = random.randint(100000, 999999)\n",
    "    method_fetched = \"contest.status\"\n",
    "    string_to_hash = f\"{random_number}/{method_fetched}?apiKey={key}&contestId=1928&count={count}&from={from_val}&time={current_time}#{secret}\"\n",
    "    sha512_hash = hashlib.sha512(string_to_hash.encode()).hexdigest()\n",
    "    req_url = f\"https://codeforces.com/api/{method_fetched}?apiKey={key}&contestId=1928&count={count}&from={from_val}&time={current_time}&apiSig={random_number}{sha512_hash}\"\n",
    "    return req_url"
   ]
  },
  {
   "cell_type": "markdown",
   "id": "fd8cd6ee-50a2-4773-b9de-9bd2ab0afdb8",
   "metadata": {},
   "source": [
    "### Next step is to make a crawler to incrementally fetch data from Codeforces"
   ]
  },
  {
   "cell_type": "code",
   "execution_count": 9,
   "id": "8ce05d3b-bb1d-4f12-8a55-94bb39875841",
   "metadata": {
    "tags": []
   },
   "outputs": [],
   "source": [
    "import csv\n",
    "import os.path\n",
    "from os import path\n",
    "\n",
    "# Function to check if file exists and create it if it doesn't\n",
    "def create_csv_file(file_path):\n",
    "    if not path.exists(file_path):\n",
    "        with open(file_path, 'w', newline='') as file:\n",
    "            # Create a CSV writer object\n",
    "            csv_writer = csv.writer(file)\n",
    "            # Write header row\n",
    "            csv_writer.writerow(['id', 'contest_id', 'author','creation_time_seconds', 'relative_time_seconds', 'problem_name', 'problem_type', 'programming_language', 'verdict', 'test_set', 'passed_test_count', 'time_consumed_millis', 'memory_consumed_bytes'])"
   ]
  },
  {
   "cell_type": "code",
   "execution_count": 10,
   "id": "d7409cde-548f-4055-b8a5-55c483b2330d",
   "metadata": {},
   "outputs": [],
   "source": [
    "def append_to_csv(data, file_path):\n",
    "    fieldnames = ['id', 'contest_id', 'author','creation_time_seconds', 'relative_time_seconds', 'problem_name', 'problem_type', 'programming_language', 'verdict', 'test_set', 'passed_test_count', 'time_consumed_millis', 'memory_consumed_bytes']\n",
    "    \n",
    "    file_exists = os.path.isfile(file_path)\n",
    "    \n",
    "    with open(file_path, 'a', newline='') as file:\n",
    "        writer = csv.DictWriter(file, fieldnames=fieldnames)\n",
    "        if not file_exists:\n",
    "            writer.writeheader()  # Write header only if file is new\n",
    "        writer.writerow(data)\n",
    "\n",
    "def make_request_and_append_to_csv(from_val, file_path):\n",
    "    req_url = get_url(from_val)\n",
    "    response = requests.get(req_url)\n",
    "    if response.status_code == 200:\n",
    "        data = response.json()\n",
    "        for item in data['result']:\n",
    "            csv_data = {\n",
    "                'id': item['id'],\n",
    "                'contest_id': item['contestId'],\n",
    "                'author': item['author']['members'][0]['handle'],\n",
    "                'creation_time_seconds': item['creationTimeSeconds'],\n",
    "                'relative_time_seconds': item['relativeTimeSeconds'],\n",
    "                'problem_name': item['problem']['name'],\n",
    "                'problem_type': item['problem']['type'],\n",
    "                'programming_language': item['programmingLanguage'],\n",
    "                'verdict': item['verdict'],\n",
    "                'test_set': item['testset'],\n",
    "                'passed_test_count': item['passedTestCount'],\n",
    "                'time_consumed_millis': item['timeConsumedMillis'],\n",
    "                'memory_consumed_bytes': item['memoryConsumedBytes']\n",
    "            }\n",
    "            append_to_csv(csv_data, file_path)\n",
    "    else:\n",
    "        print(\"Request failed with status code:\", response.status_code)"
   ]
  },
  {
   "cell_type": "code",
   "execution_count": 12,
   "id": "2232d031-4501-456e-bdb5-e0dd4dc97aa2",
   "metadata": {},
   "outputs": [
    {
     "name": "stdout",
     "output_type": "stream",
     "text": [
      "Completed: 0 / 200 , Index value : 1001\n",
      "Completed: 1 / 200 , Index value : 2001\n",
      "Completed: 2 / 200 , Index value : 3001\n",
      "Completed: 3 / 200 , Index value : 4001\n",
      "Completed: 4 / 200 , Index value : 5001\n",
      "Completed: 5 / 200 , Index value : 6001\n",
      "Completed: 6 / 200 , Index value : 7001\n",
      "Completed: 7 / 200 , Index value : 8001\n",
      "Completed: 8 / 200 , Index value : 9001\n",
      "Completed: 9 / 200 , Index value : 10001\n",
      "Completed: 10 / 200 , Index value : 11001\n",
      "Completed: 11 / 200 , Index value : 12001\n",
      "Completed: 12 / 200 , Index value : 13001\n",
      "Completed: 13 / 200 , Index value : 14001\n",
      "Completed: 14 / 200 , Index value : 15001\n",
      "Completed: 15 / 200 , Index value : 16001\n",
      "Completed: 16 / 200 , Index value : 17001\n",
      "Completed: 17 / 200 , Index value : 18001\n",
      "Completed: 18 / 200 , Index value : 19001\n",
      "Completed: 19 / 200 , Index value : 20001\n",
      "Completed: 20 / 200 , Index value : 21001\n",
      "Completed: 21 / 200 , Index value : 22001\n",
      "Completed: 22 / 200 , Index value : 23001\n",
      "Completed: 23 / 200 , Index value : 24001\n",
      "Completed: 24 / 200 , Index value : 25001\n",
      "Completed: 25 / 200 , Index value : 26001\n",
      "Completed: 26 / 200 , Index value : 27001\n",
      "Completed: 27 / 200 , Index value : 28001\n",
      "Completed: 28 / 200 , Index value : 29001\n",
      "Completed: 29 / 200 , Index value : 30001\n",
      "Completed: 30 / 200 , Index value : 31001\n",
      "Completed: 31 / 200 , Index value : 32001\n",
      "Completed: 32 / 200 , Index value : 33001\n",
      "Completed: 33 / 200 , Index value : 34001\n",
      "Completed: 34 / 200 , Index value : 35001\n",
      "Completed: 35 / 200 , Index value : 36001\n",
      "Completed: 36 / 200 , Index value : 37001\n",
      "Completed: 37 / 200 , Index value : 38001\n",
      "Completed: 38 / 200 , Index value : 39001\n",
      "Completed: 39 / 200 , Index value : 40001\n",
      "Completed: 40 / 200 , Index value : 41001\n",
      "Completed: 41 / 200 , Index value : 42001\n",
      "Completed: 42 / 200 , Index value : 43001\n",
      "Completed: 43 / 200 , Index value : 44001\n",
      "Completed: 44 / 200 , Index value : 45001\n",
      "Completed: 45 / 200 , Index value : 46001\n",
      "Completed: 46 / 200 , Index value : 47001\n",
      "Completed: 47 / 200 , Index value : 48001\n",
      "Completed: 48 / 200 , Index value : 49001\n",
      "Completed: 49 / 200 , Index value : 50001\n",
      "Completed: 50 / 200 , Index value : 51001\n",
      "Completed: 51 / 200 , Index value : 52001\n",
      "Completed: 52 / 200 , Index value : 53001\n",
      "Completed: 53 / 200 , Index value : 54001\n",
      "Completed: 54 / 200 , Index value : 55001\n",
      "Completed: 55 / 200 , Index value : 56001\n",
      "Completed: 56 / 200 , Index value : 57001\n",
      "Completed: 57 / 200 , Index value : 58001\n",
      "Completed: 58 / 200 , Index value : 59001\n",
      "Completed: 59 / 200 , Index value : 60001\n",
      "Completed: 60 / 200 , Index value : 61001\n",
      "Completed: 61 / 200 , Index value : 62001\n",
      "Completed: 62 / 200 , Index value : 63001\n",
      "Completed: 63 / 200 , Index value : 64001\n",
      "Completed: 64 / 200 , Index value : 65001\n",
      "Completed: 65 / 200 , Index value : 66001\n",
      "Completed: 66 / 200 , Index value : 67001\n",
      "Completed: 67 / 200 , Index value : 68001\n",
      "Completed: 68 / 200 , Index value : 69001\n",
      "Completed: 69 / 200 , Index value : 70001\n",
      "Completed: 70 / 200 , Index value : 71001\n",
      "Completed: 71 / 200 , Index value : 72001\n",
      "Completed: 72 / 200 , Index value : 73001\n",
      "Completed: 73 / 200 , Index value : 74001\n",
      "Completed: 74 / 200 , Index value : 75001\n",
      "Completed: 75 / 200 , Index value : 76001\n",
      "Completed: 76 / 200 , Index value : 77001\n",
      "Completed: 77 / 200 , Index value : 78001\n",
      "Completed: 78 / 200 , Index value : 79001\n",
      "Completed: 79 / 200 , Index value : 80001\n",
      "Completed: 80 / 200 , Index value : 81001\n",
      "Completed: 81 / 200 , Index value : 82001\n",
      "Completed: 82 / 200 , Index value : 83001\n",
      "Completed: 83 / 200 , Index value : 84001\n",
      "Completed: 84 / 200 , Index value : 85001\n",
      "Completed: 85 / 200 , Index value : 86001\n",
      "Completed: 86 / 200 , Index value : 87001\n",
      "Completed: 87 / 200 , Index value : 88001\n",
      "Completed: 88 / 200 , Index value : 89001\n",
      "Completed: 89 / 200 , Index value : 90001\n",
      "Completed: 90 / 200 , Index value : 91001\n",
      "Completed: 91 / 200 , Index value : 92001\n",
      "Completed: 92 / 200 , Index value : 93001\n",
      "Completed: 93 / 200 , Index value : 94001\n",
      "Completed: 94 / 200 , Index value : 95001\n",
      "Completed: 95 / 200 , Index value : 96001\n",
      "Completed: 96 / 200 , Index value : 97001\n",
      "Completed: 97 / 200 , Index value : 98001\n",
      "Completed: 98 / 200 , Index value : 99001\n",
      "Completed: 99 / 200 , Index value : 100001\n",
      "Completed: 100 / 200 , Index value : 101001\n",
      "Completed: 101 / 200 , Index value : 102001\n",
      "Completed: 102 / 200 , Index value : 103001\n",
      "Completed: 103 / 200 , Index value : 104001\n",
      "Completed: 104 / 200 , Index value : 105001\n",
      "Completed: 105 / 200 , Index value : 106001\n",
      "Completed: 106 / 200 , Index value : 107001\n",
      "Completed: 107 / 200 , Index value : 108001\n",
      "Completed: 108 / 200 , Index value : 109001\n",
      "Completed: 109 / 200 , Index value : 110001\n",
      "Completed: 110 / 200 , Index value : 111001\n",
      "Completed: 111 / 200 , Index value : 112001\n",
      "Completed: 112 / 200 , Index value : 113001\n",
      "Completed: 113 / 200 , Index value : 114001\n",
      "Completed: 114 / 200 , Index value : 115001\n",
      "Completed: 115 / 200 , Index value : 116001\n",
      "Completed: 116 / 200 , Index value : 117001\n",
      "Completed: 117 / 200 , Index value : 118001\n",
      "Completed: 118 / 200 , Index value : 119001\n",
      "Completed: 119 / 200 , Index value : 120001\n",
      "Completed: 120 / 200 , Index value : 121001\n",
      "Completed: 121 / 200 , Index value : 122001\n",
      "Completed: 122 / 200 , Index value : 123001\n",
      "Completed: 123 / 200 , Index value : 124001\n",
      "Completed: 124 / 200 , Index value : 125001\n",
      "Completed: 125 / 200 , Index value : 126001\n",
      "Completed: 126 / 200 , Index value : 127001\n",
      "Completed: 127 / 200 , Index value : 128001\n",
      "Completed: 128 / 200 , Index value : 129001\n",
      "Completed: 129 / 200 , Index value : 130001\n",
      "Completed: 130 / 200 , Index value : 131001\n",
      "Completed: 131 / 200 , Index value : 132001\n",
      "Completed: 132 / 200 , Index value : 133001\n",
      "Completed: 133 / 200 , Index value : 134001\n",
      "Completed: 134 / 200 , Index value : 135001\n",
      "Completed: 135 / 200 , Index value : 136001\n",
      "Completed: 136 / 200 , Index value : 137001\n",
      "Completed: 137 / 200 , Index value : 138001\n",
      "Completed: 138 / 200 , Index value : 139001\n",
      "Completed: 139 / 200 , Index value : 140001\n",
      "Completed: 140 / 200 , Index value : 141001\n",
      "Completed: 141 / 200 , Index value : 142001\n",
      "Completed: 142 / 200 , Index value : 143001\n",
      "Completed: 143 / 200 , Index value : 144001\n",
      "Completed: 144 / 200 , Index value : 145001\n",
      "Completed: 145 / 200 , Index value : 146001\n",
      "Completed: 146 / 200 , Index value : 147001\n",
      "Completed: 147 / 200 , Index value : 148001\n",
      "Completed: 148 / 200 , Index value : 149001\n",
      "Completed: 149 / 200 , Index value : 150001\n",
      "Completed: 150 / 200 , Index value : 151001\n",
      "Completed: 151 / 200 , Index value : 152001\n",
      "Completed: 152 / 200 , Index value : 153001\n",
      "Completed: 153 / 200 , Index value : 154001\n",
      "Completed: 154 / 200 , Index value : 155001\n",
      "Completed: 155 / 200 , Index value : 156001\n",
      "Completed: 156 / 200 , Index value : 157001\n",
      "Completed: 157 / 200 , Index value : 158001\n",
      "Completed: 158 / 200 , Index value : 159001\n",
      "Completed: 159 / 200 , Index value : 160001\n",
      "Completed: 160 / 200 , Index value : 161001\n",
      "Completed: 161 / 200 , Index value : 162001\n",
      "Completed: 162 / 200 , Index value : 163001\n",
      "Completed: 163 / 200 , Index value : 164001\n",
      "Completed: 164 / 200 , Index value : 165001\n",
      "Completed: 165 / 200 , Index value : 166001\n",
      "Completed: 166 / 200 , Index value : 167001\n",
      "Completed: 167 / 200 , Index value : 168001\n",
      "Completed: 168 / 200 , Index value : 169001\n",
      "Completed: 169 / 200 , Index value : 170001\n",
      "Completed: 170 / 200 , Index value : 171001\n",
      "Completed: 171 / 200 , Index value : 172001\n",
      "Completed: 172 / 200 , Index value : 173001\n",
      "Completed: 173 / 200 , Index value : 174001\n",
      "Completed: 174 / 200 , Index value : 175001\n",
      "Completed: 175 / 200 , Index value : 176001\n",
      "Completed: 176 / 200 , Index value : 177001\n",
      "Completed: 177 / 200 , Index value : 178001\n",
      "Completed: 178 / 200 , Index value : 179001\n",
      "Completed: 179 / 200 , Index value : 180001\n",
      "Completed: 180 / 200 , Index value : 181001\n",
      "Completed: 181 / 200 , Index value : 182001\n",
      "Completed: 182 / 200 , Index value : 183001\n",
      "Completed: 183 / 200 , Index value : 184001\n",
      "Completed: 184 / 200 , Index value : 185001\n",
      "Completed: 185 / 200 , Index value : 186001\n",
      "Completed: 186 / 200 , Index value : 187001\n",
      "Completed: 187 / 200 , Index value : 188001\n",
      "Completed: 188 / 200 , Index value : 189001\n",
      "Completed: 189 / 200 , Index value : 190001\n",
      "Completed: 190 / 200 , Index value : 191001\n",
      "Completed: 191 / 200 , Index value : 192001\n",
      "Completed: 192 / 200 , Index value : 193001\n",
      "Completed: 193 / 200 , Index value : 194001\n",
      "Completed: 194 / 200 , Index value : 195001\n",
      "Completed: 195 / 200 , Index value : 196001\n",
      "Completed: 196 / 200 , Index value : 197001\n",
      "Completed: 197 / 200 , Index value : 198001\n",
      "Completed: 198 / 200 , Index value : 199001\n",
      "Completed: 199 / 200 , Index value : 200001\n"
     ]
    }
   ],
   "source": [
    "# Number of iterations\n",
    "num_requests = 200\n",
    "# Initial value to start 1.\n",
    "from_val = 1\n",
    "\n",
    "csv_file = 'output.csv'\n",
    "\n",
    "create_csv_file(csv_file)\n",
    "\n",
    "for i in range(num_requests):\n",
    "    make_request_and_append_to_csv(from_val, 'output.csv')\n",
    "    from_val += 1000  \n",
    "    time.sleep(5)\n",
    "    print(f\"Completed: {i} / {num_requests} , Index value : {from_val}\")"
   ]
  },
  {
   "cell_type": "markdown",
   "id": "c74c5d48-62bf-4960-8213-b27af0dbaedd",
   "metadata": {},
   "source": [
    "### We can now filter and find submissions of interest\n",
    "\n",
    "**We've fetched all problems from contestid : 1928**\n",
    "\n",
    "Each contest contains several problems. For this contest, there are the following problems : \n",
    "\n",
    "- **A : Rectangle Cutting** (20,553 users attempted)\n",
    "- **B : Equalize** (14,643 users attempted)\n",
    "- **C : Physical education lesson** (7066 users attempted)\n",
    "- **D : Lonely Mountain Dungeons** (3588 users attempted)\n",
    "- **E : Modular Sequence** (1418 users attempted)\n",
    "- **F : Digital Patterns** (193 users attempted)\n",
    "  \n",
    "Now I filter by the problem and look for individuals that made multiple submissions for a given problem. In order to be considered, they must have a correct submissions (no compilation errors or wrong answer) and be written in C++ language."
   ]
  },
  {
   "cell_type": "code",
   "execution_count": 70,
   "id": "2840c413-bf0a-40d5-8ae0-908cb7428bcc",
   "metadata": {
    "tags": []
   },
   "outputs": [
    {
     "name": "stdout",
     "output_type": "stream",
     "text": [
      "179\n"
     ]
    }
   ],
   "source": [
    "import pandas as pd\n",
    "\n",
    "# Adjust CSV reading parameters\n",
    "df = pd.read_csv('output.csv')\n",
    "# Remove entries with testset value 'WRONG_ANSWER'\n",
    "df = df[df['verdict'] != 'WRONG_ANSWER']\n",
    "df = df[df['verdict'] != 'COMPILATION_ERROR']\n",
    "df = df[df['verdict'] != 'RUNTIME_ERROR'] \n",
    "df = df[df['programming_language'].str.contains('Java')]\n",
    "df = df[df['problem_name'] == 'Equalize']\n",
    "\n",
    "#Remove authors that only submitted once.\n",
    "author_counts = df['author'].value_counts()\n",
    "multiple_submissions_authors = author_counts[author_counts > 1].index\n",
    "\n",
    "# Filter the DataFrame to only keep elements where the author appears more than once\n",
    "filtered_df = df[df['author'].isin(multiple_submissions_authors)]\n",
    "\n",
    "filtered_df.to_csv('filtered_output.csv', index=False)\n",
    "\n",
    "#Retrieve submissions ids\n",
    "id_values = filtered_df['id'].tolist()\n",
    "\n",
    "print(len(id_values))"
   ]
  },
  {
   "cell_type": "markdown",
   "id": "e978cec8-e455-4c4d-8453-79a78e1fce14",
   "metadata": {},
   "source": [
    "### Now we fetch the code for all these submissions"
   ]
  },
  {
   "cell_type": "markdown",
   "id": "1f27a51a-ed77-48db-9b80-c9ea7e2a4f4d",
   "metadata": {},
   "source": [
    "To fetch the submissions, we create a webscraper. The website's DDoS protection eventually kicks in so we implement several strategies : \n",
    "- Randomized access times [11, 20] seconds\n",
    "- Randomized user agent property to make it seem like multiple users are accessing from same IP.\n",
    "- Selenium web driver rather than requests. This is necessary to load Javascript and prevent detection, as requests does not load Javascript and therefore makes it easy to detect. \n",
    "- Rotating proxy addresses"
   ]
  },
  {
   "cell_type": "code",
   "execution_count": 69,
   "id": "76c773bb-7e50-446b-ad8d-01d29fd6fccc",
   "metadata": {
    "tags": []
   },
   "outputs": [
    {
     "name": "stdout",
     "output_type": "stream",
     "text": [
      "\u001b[33mDEPRECATION: Loading egg at /Users/benjaminboucher/anaconda3/lib/python3.11/site-packages/enum34-1.1.10-py3.11.egg is deprecated. pip 24.3 will enforce this behaviour change. A possible replacement is to use pip for package installation.. Discussion can be found at https://github.com/pypa/pip/issues/12330\u001b[0m\u001b[33m\n",
      "\u001b[0m\u001b[33mDEPRECATION: Loading egg at /Users/benjaminboucher/anaconda3/lib/python3.11/site-packages/codeforces_api-0.3.4-py3.11.egg is deprecated. pip 24.3 will enforce this behaviour change. A possible replacement is to use pip for package installation.. Discussion can be found at https://github.com/pypa/pip/issues/12330\u001b[0m\u001b[33m\n",
      "\u001b[0mRequirement already satisfied: selenium in /Users/benjaminboucher/anaconda3/lib/python3.11/site-packages (4.18.1)\n",
      "Requirement already satisfied: urllib3<3,>=1.26 in /Users/benjaminboucher/anaconda3/lib/python3.11/site-packages (from urllib3[socks]<3,>=1.26->selenium) (1.26.18)\n",
      "Requirement already satisfied: trio~=0.17 in /Users/benjaminboucher/anaconda3/lib/python3.11/site-packages (from selenium) (0.25.0)\n",
      "Requirement already satisfied: trio-websocket~=0.9 in /Users/benjaminboucher/anaconda3/lib/python3.11/site-packages (from selenium) (0.11.1)\n",
      "Requirement already satisfied: certifi>=2021.10.8 in /Users/benjaminboucher/anaconda3/lib/python3.11/site-packages (from selenium) (2023.11.17)\n",
      "Requirement already satisfied: typing_extensions>=4.9.0 in /Users/benjaminboucher/anaconda3/lib/python3.11/site-packages (from selenium) (4.11.0)\n",
      "Requirement already satisfied: attrs>=23.2.0 in /Users/benjaminboucher/anaconda3/lib/python3.11/site-packages (from trio~=0.17->selenium) (23.2.0)\n",
      "Requirement already satisfied: sortedcontainers in /Users/benjaminboucher/anaconda3/lib/python3.11/site-packages (from trio~=0.17->selenium) (2.4.0)\n",
      "Requirement already satisfied: idna in /Users/benjaminboucher/anaconda3/lib/python3.11/site-packages (from trio~=0.17->selenium) (3.4)\n",
      "Requirement already satisfied: outcome in /Users/benjaminboucher/anaconda3/lib/python3.11/site-packages (from trio~=0.17->selenium) (1.3.0.post0)\n",
      "Requirement already satisfied: sniffio>=1.3.0 in /Users/benjaminboucher/anaconda3/lib/python3.11/site-packages (from trio~=0.17->selenium) (1.3.1)\n",
      "Requirement already satisfied: wsproto>=0.14 in /Users/benjaminboucher/anaconda3/lib/python3.11/site-packages (from trio-websocket~=0.9->selenium) (1.2.0)\n",
      "Requirement already satisfied: PySocks!=1.5.7,<2.0,>=1.5.6 in /Users/benjaminboucher/anaconda3/lib/python3.11/site-packages (from urllib3[socks]<3,>=1.26->selenium) (1.7.1)\n",
      "Requirement already satisfied: h11<1,>=0.9.0 in /Users/benjaminboucher/anaconda3/lib/python3.11/site-packages (from wsproto>=0.14->trio-websocket~=0.9->selenium) (0.14.0)\n",
      "\n",
      "\u001b[1m[\u001b[0m\u001b[34;49mnotice\u001b[0m\u001b[1;39;49m]\u001b[0m\u001b[39;49m A new release of pip is available: \u001b[0m\u001b[31;49m23.3\u001b[0m\u001b[39;49m -> \u001b[0m\u001b[32;49m24.0\u001b[0m\n",
      "\u001b[1m[\u001b[0m\u001b[34;49mnotice\u001b[0m\u001b[1;39;49m]\u001b[0m\u001b[39;49m To update, run: \u001b[0m\u001b[32;49mpip install --upgrade pip\u001b[0m\n",
      "\u001b[33mDEPRECATION: Loading egg at /Users/benjaminboucher/anaconda3/lib/python3.11/site-packages/enum34-1.1.10-py3.11.egg is deprecated. pip 24.3 will enforce this behaviour change. A possible replacement is to use pip for package installation.. Discussion can be found at https://github.com/pypa/pip/issues/12330\u001b[0m\u001b[33m\n",
      "\u001b[0m\u001b[33mDEPRECATION: Loading egg at /Users/benjaminboucher/anaconda3/lib/python3.11/site-packages/codeforces_api-0.3.4-py3.11.egg is deprecated. pip 24.3 will enforce this behaviour change. A possible replacement is to use pip for package installation.. Discussion can be found at https://github.com/pypa/pip/issues/12330\u001b[0m\u001b[33m\n",
      "\u001b[0mRequirement already satisfied: random_user_agent in /Users/benjaminboucher/anaconda3/lib/python3.11/site-packages (1.0.1)\n",
      "\n",
      "\u001b[1m[\u001b[0m\u001b[34;49mnotice\u001b[0m\u001b[1;39;49m]\u001b[0m\u001b[39;49m A new release of pip is available: \u001b[0m\u001b[31;49m23.3\u001b[0m\u001b[39;49m -> \u001b[0m\u001b[32;49m24.0\u001b[0m\n",
      "\u001b[1m[\u001b[0m\u001b[34;49mnotice\u001b[0m\u001b[1;39;49m]\u001b[0m\u001b[39;49m To update, run: \u001b[0m\u001b[32;49mpip install --upgrade pip\u001b[0m\n",
      "\u001b[33mDEPRECATION: Loading egg at /Users/benjaminboucher/anaconda3/lib/python3.11/site-packages/enum34-1.1.10-py3.11.egg is deprecated. pip 24.3 will enforce this behaviour change. A possible replacement is to use pip for package installation.. Discussion can be found at https://github.com/pypa/pip/issues/12330\u001b[0m\u001b[33m\n",
      "\u001b[0m\u001b[33mDEPRECATION: Loading egg at /Users/benjaminboucher/anaconda3/lib/python3.11/site-packages/codeforces_api-0.3.4-py3.11.egg is deprecated. pip 24.3 will enforce this behaviour change. A possible replacement is to use pip for package installation.. Discussion can be found at https://github.com/pypa/pip/issues/12330\u001b[0m\u001b[33m\n",
      "\u001b[0mRequirement already satisfied: lxml in /Users/benjaminboucher/anaconda3/lib/python3.11/site-packages (4.9.3)\n",
      "\n",
      "\u001b[1m[\u001b[0m\u001b[34;49mnotice\u001b[0m\u001b[1;39;49m]\u001b[0m\u001b[39;49m A new release of pip is available: \u001b[0m\u001b[31;49m23.3\u001b[0m\u001b[39;49m -> \u001b[0m\u001b[32;49m24.0\u001b[0m\n",
      "\u001b[1m[\u001b[0m\u001b[34;49mnotice\u001b[0m\u001b[1;39;49m]\u001b[0m\u001b[39;49m To update, run: \u001b[0m\u001b[32;49mpip install --upgrade pip\u001b[0m\n"
     ]
    }
   ],
   "source": [
    "!pip install selenium\n",
    "!pip install random_user_agent\n",
    "!pip install lxml\n",
    "from selenium import webdriver\n",
    "from selenium.webdriver.chrome.options import Options\n",
    "from bs4 import BeautifulSoup\n",
    "import os\n",
    "import time\n",
    "import random\n",
    "from random_user_agent.user_agent import UserAgent\n",
    "from random_user_agent.params import SoftwareName, OperatingSystem\n",
    "from selenium.webdriver.common.proxy import Proxy"
   ]
  },
  {
   "cell_type": "markdown",
   "id": "8f2663d5-b553-464e-a7fe-bc9083f2ff8f",
   "metadata": {},
   "source": [
    "This fetches a list of usable proxy addresses, updated every ten minutes. We can execute this function every ten minutes and fetch all the new addresses."
   ]
  },
  {
   "cell_type": "code",
   "execution_count": 43,
   "id": "3da97f7d-8b1a-475c-8b41-73dbeb6cd179",
   "metadata": {
    "tags": []
   },
   "outputs": [],
   "source": [
    "def fetch_proxy_urls(driver):\n",
    "    driver.get('https://www.sslproxies.org/')\n",
    "    \n",
    "    # Extract the HTML content of the page\n",
    "    page_source = driver.page_source\n",
    "\n",
    "    # Parse the HTML content using BeautifulSoup\n",
    "    soup = BeautifulSoup(page_source, 'html.parser')\n",
    "\n",
    "    # Find the table containing proxy information\n",
    "    proxy_table = soup.find('table', class_='table')\n",
    "\n",
    "    # Extract IP addresses and ports from the table rows\n",
    "    proxy_server_urls = []\n",
    "    if proxy_table:\n",
    "        rows = proxy_table.find_all('tr')\n",
    "        for row in rows[1:]:  # Skip the header row\n",
    "            columns = row.find_all('td')\n",
    "            ip_address = columns[0].text\n",
    "            port = columns[1].text\n",
    "            proxy_url = f\"{ip_address}:{port}\"\n",
    "            proxy_server_urls.append(proxy_url)\n",
    "    driver.quit()\n",
    "    return proxy_server_urls\n"
   ]
  },
  {
   "cell_type": "code",
   "execution_count": null,
   "id": "0a32a5c6-f2e2-4fc0-8a8e-c26ebfef4ddb",
   "metadata": {
    "tags": []
   },
   "outputs": [],
   "source": [
    "# Define the directory to store code files\n",
    "directory = \"code_files\"\n",
    "if not os.path.exists(directory):\n",
    "    os.makedirs(directory)\n",
    "\n",
    "# Initialize UserAgent object\n",
    "software_names = [SoftwareName.EDGE.value, SoftwareName.CHROME.value, SoftwareName.CHROMIUM.value, SoftwareName.ANDROID.value, SoftwareName.FIREFOX.value, SoftwareName.OPERA.value, SoftwareName.SAFARI.value]\n",
    "operating_systems = [OperatingSystem.WINDOWS.value, OperatingSystem.LINUX.value, OperatingSystem.MAC.value]\n",
    "user_agent_rotator = UserAgent(software_names=software_names, operating_systems=operating_systems, limit=100)\n",
    "\n",
    "#chrome_options = Options()\n",
    "#chrome_options.add_argument(f'user-agent={user_agent}')\n",
    "#driver = webdriver.Chrome(options=chrome_options)\n",
    "#proxy_server_urls = fetch_proxy_urls(driver)\n",
    "# Iterate over each submission ID\n",
    "for submission_id in id_values:\n",
    "    try:\n",
    "        # Randomizing sleep duration (Must be greater than 10 to prevent DDOS protection from kicking in)\n",
    "        #if count % 35 == 0:\n",
    "        #    proxy_server_urls = fetch_proxy_urls(driver)\n",
    "        file_path = os.path.join(directory, f\"submission_{submission_id}.txt\")\n",
    "        if os.path.isfile(file_path):           \n",
    "            continue\n",
    "        # URL of the submission page\n",
    "        submission_url = f\"https://codeforces.com/contest/1928/submission/{submission_id}\"\n",
    "\n",
    "        # Set a random User-Agent for each request\n",
    "        user_agent = user_agent_rotator.get_random_user_agent()\n",
    "          \n",
    "        # Set up Chrome options\n",
    "        chrome_options = Options()\n",
    "\n",
    "        # Set proxy server URL\n",
    "        #PROXY = proxy_server_urls[random.randint(0, len(proxy_server_urls) - 1)]\n",
    "        #print(PROXY)\n",
    "        # Add user agent, incognito mode, and headless mode to Chrome options\n",
    "        chrome_options.add_argument(f'user-agent={user_agent}')\n",
    "        chrome_options.add_argument(\"--incognito\")\n",
    "        chrome_options.add_argument(\"--headless\")\n",
    "\n",
    "        # Set proxy server for Chrome WebDriver\n",
    "        #chrome_options.add_argument(\"--proxy-server=%s\" % PROXY)\n",
    "\n",
    "        # Initialize Chrome WebDriver with options\n",
    "        driver = webdriver.Chrome(options=chrome_options)\n",
    "\n",
    "        # Navigate to the submission page\n",
    "        driver.get(submission_url)\n",
    "        time.sleep(random.randint(9, 12))\n",
    "        # Extract the HTML content of the page\n",
    "        page_source = driver.page_source\n",
    "        \n",
    "        # Parse the HTML content using BeautifulSoup\n",
    "        soup = BeautifulSoup(page_source, 'lxml')\n",
    "\n",
    "        not_allowed_messages = soup.find_all(string='403 Forbidden')\n",
    "\n",
    "        if not_allowed_messages:\n",
    "            print(f\"Scraping detected.\")\n",
    "            time.sleep(random.randint(400, 500))\n",
    "            continue\n",
    "        \n",
    "        # Extract the code from the page\n",
    "        code_element = soup.find('pre', class_='prettyprint')\n",
    "        \n",
    "        if code_element:\n",
    "            code = code_element.get_text()\n",
    "\n",
    "            # Write the code to a .txt file\n",
    "            file_path = os.path.join(directory, f\"submission_{submission_id}.txt\")\n",
    "            with open(file_path, \"w\", encoding=\"utf-8\") as file:\n",
    "                file.write(code)\n",
    "            print(f\"Code found for submission {submission_id}.\")\n",
    "        else:\n",
    "            print(f\"No code found for submission {submission_id}.\")    \n",
    "        time.sleep(5)\n",
    "        driver.quit()\n",
    "    except Exception as e:\n",
    "        print(f\"An error occurred for submission {submission_id}: {e}\")"
   ]
  },
  {
   "cell_type": "markdown",
   "id": "45d09e5b-cec8-4eeb-b364-4749161b82aa",
   "metadata": {},
   "source": [
    "## Creating Bag of Words model"
   ]
  },
  {
   "cell_type": "markdown",
   "id": "7620baa6-c403-4778-ba2f-b1085903552e",
   "metadata": {},
   "source": [
    "#### Pre-processing the data"
   ]
  },
  {
   "cell_type": "code",
   "execution_count": 3,
   "id": "629ad3c7-f4a1-420e-b8fa-b01bb4184f5d",
   "metadata": {
    "tags": []
   },
   "outputs": [
    {
     "name": "stdout",
     "output_type": "stream",
     "text": [
      "\u001b[33mDEPRECATION: Loading egg at /Users/benjaminboucher/anaconda3/lib/python3.11/site-packages/enum34-1.1.10-py3.11.egg is deprecated. pip 24.3 will enforce this behaviour change. A possible replacement is to use pip for package installation.. Discussion can be found at https://github.com/pypa/pip/issues/12330\u001b[0m\u001b[33m\n",
      "\u001b[0m\u001b[33mDEPRECATION: Loading egg at /Users/benjaminboucher/anaconda3/lib/python3.11/site-packages/codeforces_api-0.3.4-py3.11.egg is deprecated. pip 24.3 will enforce this behaviour change. A possible replacement is to use pip for package installation.. Discussion can be found at https://github.com/pypa/pip/issues/12330\u001b[0m\u001b[33m\n",
      "\u001b[0mRequirement already satisfied: nltk in /Users/benjaminboucher/anaconda3/lib/python3.11/site-packages (3.8.1)\n",
      "Requirement already satisfied: click in /Users/benjaminboucher/anaconda3/lib/python3.11/site-packages (from nltk) (8.1.7)\n",
      "Requirement already satisfied: joblib in /Users/benjaminboucher/anaconda3/lib/python3.11/site-packages (from nltk) (1.2.0)\n",
      "Requirement already satisfied: regex>=2021.8.3 in /Users/benjaminboucher/anaconda3/lib/python3.11/site-packages (from nltk) (2023.10.3)\n",
      "Requirement already satisfied: tqdm in /Users/benjaminboucher/anaconda3/lib/python3.11/site-packages (from nltk) (4.65.0)\n",
      "\n",
      "\u001b[1m[\u001b[0m\u001b[34;49mnotice\u001b[0m\u001b[1;39;49m]\u001b[0m\u001b[39;49m A new release of pip is available: \u001b[0m\u001b[31;49m23.3\u001b[0m\u001b[39;49m -> \u001b[0m\u001b[32;49m24.0\u001b[0m\n",
      "\u001b[1m[\u001b[0m\u001b[34;49mnotice\u001b[0m\u001b[1;39;49m]\u001b[0m\u001b[39;49m To update, run: \u001b[0m\u001b[32;49mpip install --upgrade pip\u001b[0m\n",
      "\u001b[33mDEPRECATION: Loading egg at /Users/benjaminboucher/anaconda3/lib/python3.11/site-packages/enum34-1.1.10-py3.11.egg is deprecated. pip 24.3 will enforce this behaviour change. A possible replacement is to use pip for package installation.. Discussion can be found at https://github.com/pypa/pip/issues/12330\u001b[0m\u001b[33m\n",
      "\u001b[0m\u001b[33mDEPRECATION: Loading egg at /Users/benjaminboucher/anaconda3/lib/python3.11/site-packages/codeforces_api-0.3.4-py3.11.egg is deprecated. pip 24.3 will enforce this behaviour change. A possible replacement is to use pip for package installation.. Discussion can be found at https://github.com/pypa/pip/issues/12330\u001b[0m\u001b[33m\n",
      "\u001b[0mRequirement already satisfied: sctokenizer in /Users/benjaminboucher/anaconda3/lib/python3.11/site-packages (0.0.8)\n",
      "\n",
      "\u001b[1m[\u001b[0m\u001b[34;49mnotice\u001b[0m\u001b[1;39;49m]\u001b[0m\u001b[39;49m A new release of pip is available: \u001b[0m\u001b[31;49m23.3\u001b[0m\u001b[39;49m -> \u001b[0m\u001b[32;49m24.0\u001b[0m\n",
      "\u001b[1m[\u001b[0m\u001b[34;49mnotice\u001b[0m\u001b[1;39;49m]\u001b[0m\u001b[39;49m To update, run: \u001b[0m\u001b[32;49mpip install --upgrade pip\u001b[0m\n"
     ]
    }
   ],
   "source": [
    "!pip install nltk\n",
    "!pip install sctokenizer"
   ]
  },
  {
   "cell_type": "code",
   "execution_count": 71,
   "id": "1aef5ca5-dd94-466b-8c41-56c41ee7b87c",
   "metadata": {
    "tags": []
   },
   "outputs": [
    {
     "ename": "KeyError",
     "evalue": "'id'",
     "output_type": "error",
     "traceback": [
      "\u001b[0;31m---------------------------------------------------------------------------\u001b[0m",
      "\u001b[0;31mKeyError\u001b[0m                                  Traceback (most recent call last)",
      "Cell \u001b[0;32mIn[71], line 51\u001b[0m\n\u001b[1;32m     49\u001b[0m directory \u001b[38;5;241m=\u001b[39m \u001b[38;5;124m\"\u001b[39m\u001b[38;5;124mcode_files\u001b[39m\u001b[38;5;124m\"\u001b[39m\n\u001b[1;32m     50\u001b[0m output_csv \u001b[38;5;241m=\u001b[39m \u001b[38;5;124m\"\u001b[39m\u001b[38;5;124moutput.csv\u001b[39m\u001b[38;5;124m\"\u001b[39m\n\u001b[0;32m---> 51\u001b[0m process_code_files(directory, output_csv)\n",
      "Cell \u001b[0;32mIn[71], line 39\u001b[0m, in \u001b[0;36mprocess_code_files\u001b[0;34m(directory, output_csv)\u001b[0m\n\u001b[1;32m     35\u001b[0m output_df \u001b[38;5;241m=\u001b[39m pd\u001b[38;5;241m.\u001b[39mread_csv(output_csv)\n\u001b[1;32m     36\u001b[0m output_df \u001b[38;5;241m=\u001b[39m output_df[[\u001b[38;5;124m'\u001b[39m\u001b[38;5;124mid\u001b[39m\u001b[38;5;124m'\u001b[39m, \u001b[38;5;124m'\u001b[39m\u001b[38;5;124mtime_consumed_millis\u001b[39m\u001b[38;5;124m'\u001b[39m, \u001b[38;5;124m'\u001b[39m\u001b[38;5;124mmemory_consumed_bytes\u001b[39m\u001b[38;5;124m'\u001b[39m]]\n\u001b[0;32m---> 39\u001b[0m df[\u001b[38;5;124m'\u001b[39m\u001b[38;5;124mid\u001b[39m\u001b[38;5;124m'\u001b[39m] \u001b[38;5;241m=\u001b[39m df[\u001b[38;5;124m'\u001b[39m\u001b[38;5;124mid\u001b[39m\u001b[38;5;124m'\u001b[39m]\u001b[38;5;241m.\u001b[39mastype(\u001b[38;5;28mstr\u001b[39m)\n\u001b[1;32m     40\u001b[0m output_df[\u001b[38;5;124m'\u001b[39m\u001b[38;5;124mid\u001b[39m\u001b[38;5;124m'\u001b[39m] \u001b[38;5;241m=\u001b[39m output_df[\u001b[38;5;124m'\u001b[39m\u001b[38;5;124mid\u001b[39m\u001b[38;5;124m'\u001b[39m]\u001b[38;5;241m.\u001b[39mastype(\u001b[38;5;28mstr\u001b[39m)\n\u001b[1;32m     43\u001b[0m final_df \u001b[38;5;241m=\u001b[39m pd\u001b[38;5;241m.\u001b[39mmerge(df, output_df, on\u001b[38;5;241m=\u001b[39m\u001b[38;5;124m'\u001b[39m\u001b[38;5;124mid\u001b[39m\u001b[38;5;124m'\u001b[39m, how\u001b[38;5;241m=\u001b[39m\u001b[38;5;124m'\u001b[39m\u001b[38;5;124mleft\u001b[39m\u001b[38;5;124m'\u001b[39m)\n",
      "File \u001b[0;32m~/anaconda3/lib/python3.11/site-packages/pandas/core/frame.py:3896\u001b[0m, in \u001b[0;36mDataFrame.__getitem__\u001b[0;34m(self, key)\u001b[0m\n\u001b[1;32m   3894\u001b[0m \u001b[38;5;28;01mif\u001b[39;00m \u001b[38;5;28mself\u001b[39m\u001b[38;5;241m.\u001b[39mcolumns\u001b[38;5;241m.\u001b[39mnlevels \u001b[38;5;241m>\u001b[39m \u001b[38;5;241m1\u001b[39m:\n\u001b[1;32m   3895\u001b[0m     \u001b[38;5;28;01mreturn\u001b[39;00m \u001b[38;5;28mself\u001b[39m\u001b[38;5;241m.\u001b[39m_getitem_multilevel(key)\n\u001b[0;32m-> 3896\u001b[0m indexer \u001b[38;5;241m=\u001b[39m \u001b[38;5;28mself\u001b[39m\u001b[38;5;241m.\u001b[39mcolumns\u001b[38;5;241m.\u001b[39mget_loc(key)\n\u001b[1;32m   3897\u001b[0m \u001b[38;5;28;01mif\u001b[39;00m is_integer(indexer):\n\u001b[1;32m   3898\u001b[0m     indexer \u001b[38;5;241m=\u001b[39m [indexer]\n",
      "File \u001b[0;32m~/anaconda3/lib/python3.11/site-packages/pandas/core/indexes/range.py:418\u001b[0m, in \u001b[0;36mRangeIndex.get_loc\u001b[0;34m(self, key)\u001b[0m\n\u001b[1;32m    416\u001b[0m         \u001b[38;5;28;01mraise\u001b[39;00m \u001b[38;5;167;01mKeyError\u001b[39;00m(key) \u001b[38;5;28;01mfrom\u001b[39;00m \u001b[38;5;21;01merr\u001b[39;00m\n\u001b[1;32m    417\u001b[0m \u001b[38;5;28;01mif\u001b[39;00m \u001b[38;5;28misinstance\u001b[39m(key, Hashable):\n\u001b[0;32m--> 418\u001b[0m     \u001b[38;5;28;01mraise\u001b[39;00m \u001b[38;5;167;01mKeyError\u001b[39;00m(key)\n\u001b[1;32m    419\u001b[0m \u001b[38;5;28mself\u001b[39m\u001b[38;5;241m.\u001b[39m_check_indexing_error(key)\n\u001b[1;32m    420\u001b[0m \u001b[38;5;28;01mraise\u001b[39;00m \u001b[38;5;167;01mKeyError\u001b[39;00m(key)\n",
      "\u001b[0;31mKeyError\u001b[0m: 'id'"
     ]
    }
   ],
   "source": [
    "import os\n",
    "import pandas as pd\n",
    "from sctokenizer import CppTokenizer\n",
    "from sklearn.metrics import mean_squared_error\n",
    "\n",
    "def preprocess_code(code):\n",
    "    code = code.replace(';', ';\\n')\n",
    "    return code\n",
    "\n",
    "def tokenize_cpp_file(file_path):\n",
    "    tokenizer = CppTokenizer()\n",
    "    with open(file_path) as file:\n",
    "        source = file.read()\n",
    "        code = preprocess_code(source)\n",
    "        tokens = [token.token_value for token in tokenizer.tokenize(code) if token.token_value not in {'#', ';'}]\n",
    "\n",
    "        \n",
    "        return ','.join(token.token_value for token in tokens)\n",
    "\n",
    "def process_code_files(directory, output_csv):\n",
    "    df_list = []\n",
    "\n",
    "    for file_name in os.listdir(directory):\n",
    "        if file_name.endswith(\".txt\"):\n",
    "            submission_id = file_name.split('_')[-1].split('.')[0]\n",
    "\n",
    "            file_path = os.path.join(directory, file_name)\n",
    "            tokens = tokenize_cpp_file(file_path)\n",
    "            \n",
    "            df_list.append({'id': submission_id,\n",
    "                            'tokens': tokens})\n",
    "\n",
    "    df = pd.DataFrame(df_list)\n",
    "\n",
    "    output_df = pd.read_csv(output_csv)\n",
    "    output_df = output_df[['id', 'time_consumed_millis', 'memory_consumed_bytes']]\n",
    "\n",
    "  \n",
    "    df['id'] = df['id'].astype(str)\n",
    "    output_df['id'] = output_df['id'].astype(str)\n",
    "\n",
    "\n",
    "    final_df = pd.merge(df, output_df, on='id', how='left')\n",
    "    filtered_train_df = final_df[(final_df['time_consumed_millis'] != 0) & (final_df['time_consumed_millis'] != 1000)]\n",
    "\n",
    "    # Save final_df to CSV\n",
    "    filtered_train_df.to_csv('model_data.csv', index=False)\n",
    "\n",
    "directory = \"code_files\"\n",
    "output_csv = \"output.csv\"\n",
    "process_code_files(directory, output_csv)"
   ]
  },
  {
   "cell_type": "markdown",
   "id": "34289ff5-4b17-4967-ba0c-5c9eb16e97af",
   "metadata": {},
   "source": [
    "## Constructing the model"
   ]
  },
  {
   "cell_type": "markdown",
   "id": "30a4a6cf-d696-426f-b61f-6468aaed7328",
   "metadata": {},
   "source": [
    "We're going to make 2 models : \n",
    "1. Execution time\n",
    "2. Memory consumption"
   ]
  },
  {
   "cell_type": "markdown",
   "id": "48d1e1f6-e0f1-4edd-9fe0-41b6fadfca9f",
   "metadata": {},
   "source": [
    "#### Splitting the data"
   ]
  },
  {
   "cell_type": "code",
   "execution_count": 72,
   "id": "2937adbc-e3cf-44e8-ae9d-4dc333baa9b9",
   "metadata": {
    "tags": []
   },
   "outputs": [],
   "source": [
    "from sklearn.model_selection import train_test_split\n",
    "import numpy as np\n",
    "\n",
    "\n",
    "df = pd.read_csv('model_data.csv')\n",
    "train_df, test_df = train_test_split(df, test_size=0.2, random_state=42)"
   ]
  },
  {
   "cell_type": "code",
   "execution_count": 73,
   "id": "09afde57-43a3-4c6e-8c5c-17cce329bfeb",
   "metadata": {
    "tags": []
   },
   "outputs": [
    {
     "data": {
      "image/png": "[encoded data removed]",
      "text/plain": [
       "<Figure size 800x600 with 1 Axes>"
      ]
     },
     "metadata": {},
     "output_type": "display_data"
    }
   ],
   "source": [
    "import matplotlib.pyplot as plt\n",
    "# Function to categorize the execution times\n",
    "def categorize_time(time):\n",
    "    if time < 10:\n",
    "        return 'Error'\n",
    "    elif time < 250:\n",
    "        return 'Less than 250ms'\n",
    "    elif time < 500:\n",
    "        return 'Greater than 250ms, less than 500ms'\n",
    "    else:\n",
    "        return 'Greater than 500ms'\n",
    "\n",
    "\n",
    "# Apply the categorize_time function to create a new column\n",
    "df['time_category'] = df['time_consumed_millis'].apply(categorize_time)\n",
    "\n",
    "# Count the occurrences of each category\n",
    "time_category_counts = df['time_category'].value_counts()\n",
    "\n",
    "# Plotting the pie chart\n",
    "plt.figure(figsize=(8, 6))\n",
    "plt.pie(time_category_counts, labels=time_category_counts.index, autopct='%1.1f%%', startangle=140)\n",
    "plt.title('Execution Times')\n",
    "plt.show()"
   ]
  },
  {
   "cell_type": "code",
   "execution_count": 74,
   "id": "16a7ed3b-87c8-4346-9db0-76af51bef0d6",
   "metadata": {
    "tags": []
   },
   "outputs": [
    {
     "data": {
      "image/png": "[encoded data removed]",
      "text/plain": [
       "<Figure size 1000x600 with 1 Axes>"
      ]
     },
     "metadata": {},
     "output_type": "display_data"
    }
   ],
   "source": [
    "# Function to categorize the execution times\n",
    "def categorize_time(time):\n",
    "    return int(time / 100) * 100 + 100  # Round down to the nearest 100ms\n",
    "\n",
    "# Apply the categorize_time function to create a new column\n",
    "df['time_category'] = df['time_consumed_millis'].apply(categorize_time)\n",
    "\n",
    "# Count the occurrences of each category\n",
    "time_category_counts = df['time_category'].value_counts().sort_index()\n",
    "\n",
    "# Plotting the bar chart\n",
    "plt.figure(figsize=(10, 6))\n",
    "ax = time_category_counts.plot(kind='bar', color='skyblue')\n",
    "plt.title('Execution Time Distribution')\n",
    "plt.xlabel('Execution Time (ms)')\n",
    "plt.ylabel('Count')\n",
    "plt.xticks(rotation=45)\n",
    "plt.grid(axis='y', linestyle='--', alpha=0.7)\n",
    "for p in ax.patches:\n",
    "    ax.annotate(str(p.get_height()), (p.get_x() + p.get_width() / 2., p.get_height()), ha='center', va='center', xytext=(0, 5), textcoords='offset points')\n",
    "\n",
    "plt.tight_layout()\n",
    "plt.show()"
   ]
  },
  {
   "cell_type": "markdown",
   "id": "0f2dcca7-617e-40ad-8c5f-627c4fac4e17",
   "metadata": {},
   "source": [
    "#### Apply TF-IDF"
   ]
  },
  {
   "cell_type": "code",
   "execution_count": 75,
   "id": "72d584f5-3644-4e01-9467-e37c844bac69",
   "metadata": {
    "tags": []
   },
   "outputs": [],
   "source": [
    "from sklearn.feature_extraction.text import TfidfVectorizer\n",
    "\n",
    "corpus = []\n",
    "\n",
    "for index, row in train_df.iterrows():\n",
    "    tokens = row['tokens']\n",
    "    corpus.append(' '.join(tokens.split()))\n",
    "\n",
    "vectorizer = TfidfVectorizer()\n",
    "\n",
    "tfidf_matrix = vectorizer.fit_transform(corpus)"
   ]
  },
  {
   "cell_type": "markdown",
   "id": "0452558e-3962-4fad-9ce9-ed8ff4f1ce63",
   "metadata": {},
   "source": [
    "Applying TF-IDF to test set"
   ]
  },
  {
   "cell_type": "code",
   "execution_count": 76,
   "id": "81360192-ad31-4d97-b123-3e8ce2902e20",
   "metadata": {
    "tags": []
   },
   "outputs": [],
   "source": [
    "test_corpus = []\n",
    "\n",
    "for index, row in test_df.iterrows():\n",
    "    tokens = row['tokens']\n",
    "    test_corpus.append(' '.join(tokens.split()))\n",
    "\n",
    "test_tfidf_matrix = vectorizer.transform(test_corpus)"
   ]
  },
  {
   "cell_type": "code",
   "execution_count": 77,
   "id": "7a3fc6cc-868a-4b8b-83ed-caa2e0038be2",
   "metadata": {
    "tags": []
   },
   "outputs": [],
   "source": [
    "from sklearn.decomposition import TruncatedSVD\n",
    "\n",
    "svd = TruncatedSVD(n_components=1000) \n",
    "tfidf_matrix_reduced = svd.fit_transform(tfidf_matrix)\n",
    "test_tfidf_matrix_reduced = svd.transform(test_tfidf_matrix)"
   ]
  },
  {
   "cell_type": "markdown",
   "id": "247fcde3-4d4a-43fb-878b-541c8a7c6e3e",
   "metadata": {},
   "source": [
    "### Baseline Model - Time consumed in milliseconds"
   ]
  },
  {
   "cell_type": "code",
   "execution_count": null,
   "id": "0c21cd57-b454-45b6-aa85-04863308199f",
   "metadata": {
    "tags": []
   },
   "outputs": [],
   "source": [
    "from sklearn.dummy import DummyRegressor\n",
    "from sklearn.metrics import mean_squared_error\n",
    "\n",
    "dummy_regressor = DummyRegressor(strategy='mean')\n",
    "dummy_regressor.fit(tfidf_matrix, train_df['time_consumed_millis'])\n",
    "\n",
    "predicted_values = dummy_regressor.predict(test_tfidf_matrix)\n",
    "\n",
    "mse = mean_squared_error(test_df['time_consumed_millis'], predicted_values)\n",
    "print(\"Root Mean Squared Error (RMSE) of the baseline model:\", np.sqrt(mse))"
   ]
  },
  {
   "cell_type": "markdown",
   "id": "fe749072-2fe2-4fef-9714-ead9dab66823",
   "metadata": {},
   "source": [
    "Root Mean Squared Error (RMSE) of the baseline model: 168.92\n"
   ]
  },
  {
   "cell_type": "code",
   "execution_count": null,
   "id": "370addcc-e36b-43f9-b688-ae7c3f47d75b",
   "metadata": {
    "tags": []
   },
   "outputs": [],
   "source": [
    "from sklearn.neural_network import MLPRegressor\n",
    "mlpreg = MLPRegressor(hidden_layer_sizes=(tfidf_matrix_reduced.shape[0],), alpha=0.5, max_iter=1500, random_state=42, solver='adam')\n",
    "mlpreg.fit(tfidf_matrix_reduced, train_df['time_consumed_millis'])\n",
    "\n",
    "predicted_values = mlpreg.predict(test_tfidf_matrix_reduced)\n",
    "\n",
    "mse = mean_squared_error(test_df['time_consumed_millis'], predicted_values)\n",
    "print(\"Root Mean Squared Error (RMSE) of the baseline model:\", np.sqrt(mse))"
   ]
  },
  {
   "cell_type": "markdown",
   "id": "61808bf7-2944-40d1-8e68-1cd04381b312",
   "metadata": {},
   "source": [
    "Root Mean Squared Error (RMSE) of the baseline model: 105.65\n",
    "\n",
    "Interestingly, this regressor benefits from removing features in the data, keeping only the ones with the highest SVD values."
   ]
  },
  {
   "cell_type": "markdown",
   "id": "40d76b9a-2283-4115-a8e7-22561911e72c",
   "metadata": {},
   "source": [
    "#### Gridsearch on MLPRegressor"
   ]
  },
  {
   "cell_type": "code",
   "execution_count": null,
   "id": "5a292393-9f38-4763-a1cc-beaa4b578865",
   "metadata": {
    "tags": []
   },
   "outputs": [],
   "source": [
    "from sklearn.model_selection import GridSearchCV\n",
    "from sklearn.neural_network import MLPRegressor\n",
    "from sklearn.metrics import mean_squared_error\n",
    "import numpy as np\n",
    "\n",
    "param_grid = {\n",
    "    'hidden_layer_sizes': [(50,), (100,), (200,), (300,), (tfidf_matrix.shape[0],)],\n",
    "    'alpha': [ 0.01, 0.1, 0.5], \n",
    "    'max_iter': [1500], \n",
    "    'solver': ['adam'], \n",
    "    'activation': ['logistic'] \n",
    "}\n",
    "\n",
    "mlpreg = MLPRegressor(random_state=42)\n",
    "grid_search = GridSearchCV(mlpreg, param_grid, cv=5, scoring='neg_mean_squared_error')\n",
    "grid_search.fit(tfidf_matrix, train_df['time_consumed_millis'])\n",
    "\n",
    "best_params = grid_search.best_params_\n",
    "print(\"Best hyperparameters:\", best_params)\n",
    "\n",
    "best_model = grid_search.best_estimator_\n",
    "predicted_values = best_model.predict(test_tfidf_matrix)\n",
    "\n",
    "mse = mean_squared_error(test_df['time_consumed_millis'], predicted_values)\n",
    "rmse = np.sqrt(mse)\n",
    "print(\"Root Mean Squared Error (RMSE) of the best model:\", rmse)"
   ]
  },
  {
   "cell_type": "markdown",
   "id": "318f38ce-190d-42eb-b324-079f8fa52d80",
   "metadata": {},
   "source": [
    "Best hyperparameters: {'activation': 'logistic', 'alpha': 0.5, 'hidden_layer_sizes': (439,), 'max_iter': 1500, 'solver': 'adam'}\n",
    "\n",
    "Tuned model : Root Mean Squared Error (RMSE) of the best model: 105.65"
   ]
  },
  {
   "cell_type": "markdown",
   "id": "37b1ae43-bf5f-4e80-bb18-48240a920205",
   "metadata": {},
   "source": [
    "### **Observations**\n",
    "Current error is quite high. This is indicative that either our data either has errors or our model has low predictive abilities. I found in the data that we were conserving runtime errors which made it so we had skewed outputs for time in milliseconds."
   ]
  },
  {
   "cell_type": "code",
   "execution_count": null,
   "id": "318236ce-35cb-4a28-b92a-3ec29bbb8f2f",
   "metadata": {},
   "outputs": [],
   "source": [
    "from sklearn.linear_model import LogisticRegression\n",
    "logit_reg = LogisticRegression(random_state=42, penalty=\"l1\", C=0.5, solver='saga')\n",
    "logit_reg.fit(tfidf_matrix, train_df['time_consumed_millis'])\n",
    "predicted_values = logit_reg.predict(test_tfidf_matrix)\n",
    "mse = mean_squared_error(test_df['time_consumed_millis'], predicted_values)\n",
    "rmse = np.sqrt(mse)\n",
    "print(\"Root Mean Squared Error (RMSE) of the Logistic Regression model:\",rmse)"
   ]
  },
  {
   "cell_type": "markdown",
   "id": "d5ed66b2-24da-4e2b-a4e5-f09ba85f86f5",
   "metadata": {},
   "source": [
    "The logisitic regressor has slightly better predictive abilities than a dummy regressor.\n",
    "\n",
    "Root Mean Squared Error (RMSE) of the Logistic Regression model: 137.84"
   ]
  },
  {
   "cell_type": "markdown",
   "id": "1547c477-2c67-41f3-8095-b715faff0e4c",
   "metadata": {},
   "source": [
    "#### **XGBoost**"
   ]
  },
  {
   "cell_type": "code",
   "execution_count": null,
   "id": "11529583-88e5-4a51-90ec-7c19d4b849d3",
   "metadata": {},
   "outputs": [],
   "source": [
    "import xgboost as xgb\n",
    "\n",
    "dtrain = xgb.DMatrix(tfidf_matrix, label=train_df['time_consumed_millis'])\n",
    "dtest = xgb.DMatrix(test_tfidf_matrix, label=test_df['time_consumed_millis'])\n",
    "\n",
    "params = {\n",
    "    'objective': 'reg:squarederror',  \n",
    "    'eval_metric': 'rmse',\n",
    "    'max_depth': 10\n",
    "}\n",
    "\n",
    "num_rounds = 1000\n",
    "xgb_model = xgb.train(params, dtrain, num_rounds)\n",
    "\n",
    "y_pred = xgb_model.predict(dtest)\n",
    "\n",
    "mse = mean_squared_error(test_df['time_consumed_millis'], y_pred)\n",
    "print(\"Root Mean Squared Error (RMSE) of the XGBoost model:\", np.sqrt(mse))"
   ]
  },
  {
   "cell_type": "markdown",
   "id": "a8529d5d-658c-4d9f-bb32-89b163b88021",
   "metadata": {
    "tags": []
   },
   "source": [
    "Root Mean Squared Error (RMSE) of the XGBoost model: 84.08"
   ]
  },
  {
   "cell_type": "markdown",
   "id": "6f932a97-5eb9-4fe7-86a3-b8ae3672a184",
   "metadata": {},
   "source": [
    "#### **Linear Regression**"
   ]
  },
  {
   "cell_type": "code",
   "execution_count": null,
   "id": "18a90039-2032-4029-adbc-6e706a1ddc71",
   "metadata": {
    "tags": []
   },
   "outputs": [],
   "source": [
    "from sklearn.linear_model import LinearRegression\n",
    "\n",
    "linear_reg = LinearRegression()\n",
    "linear_reg.fit(tfidf_matrix, train_df['time_consumed_millis'])\n",
    "\n",
    "predicted_values = linear_reg.predict(test_tfidf_matrix)\n",
    "\n",
    "mse = mean_squared_error(test_df['time_consumed_millis'], predicted_values)\n",
    "print(\"Root Mean Squared Error (RMSE) of the Linear Regression model:\", np.sqrt(mse))"
   ]
  },
  {
   "cell_type": "markdown",
   "id": "cf4dd421-203d-4dbf-b89f-f413c8ff8a0e",
   "metadata": {},
   "source": [
    "Root Mean Squared Error (RMSE) of the Linear Regression model: 352.3574170729968\n",
    "\n",
    "This model has really poor predictive abilities."
   ]
  },
  {
   "cell_type": "markdown",
   "id": "e57cda33-bed9-4bb0-b7d9-77828d4aef40",
   "metadata": {},
   "source": [
    "#### **Random forest Regressor**"
   ]
  },
  {
   "cell_type": "code",
   "execution_count": null,
   "id": "52a4f9f5-e024-48a3-aa68-aa637fa061cc",
   "metadata": {
    "tags": []
   },
   "outputs": [],
   "source": [
    "from sklearn.ensemble import RandomForestRegressor\n",
    "random_forest_model = RandomForestRegressor(max_depth=7, random_state=42, n_estimators=100)\n",
    "random_forest_model.fit(tfidf_matrix, train_df['time_consumed_millis'])\n",
    "predict_vals = random_forest_model.predict(test_tfidf_matrix)\n",
    "\n",
    "mse = mean_squared_error(test_df['time_consumed_millis'], predict_vals)\n",
    "print(\"Root Mean Squared Error (RMSE) of the Random forest model:\", np.sqrt(mse))"
   ]
  },
  {
   "cell_type": "markdown",
   "id": "1f703953-1f20-43fe-9033-670c31aa5fca",
   "metadata": {},
   "source": [
    "Root Mean Squared Error (RMSE) of the Random forest model: 81.74"
   ]
  },
  {
   "cell_type": "markdown",
   "id": "933f27d0-3fa5-4bd9-9a63-662e2a0e080a",
   "metadata": {},
   "source": [
    "### **Testing Doc2Vec model on our use-case**\n",
    "Here are the steps that will be followed:\n",
    "1. Preprocess each file, given that we're not using TF-IDF, we will remove punctuation from each file : ; , # , as these add noise.\n",
    "2. We will tokenize the C++ files with the same technique that was used for the BoW model.\n",
    "3. We will split our data, as training data must be prepared in a different manner than testing data.\n",
    "4. We will create TaggedDocuments using gensim library for our training data.\n",
    "5. With the TaggedDocuments, we will create a corpus\n",
    "6. Finally we will create the Doc2Vec model. "
   ]
  },
  {
   "cell_type": "code",
   "execution_count": 1,
   "id": "e7a68ed5-ebf7-4865-9008-05c6b321d795",
   "metadata": {
    "tags": []
   },
   "outputs": [],
   "source": [
    "import os\n",
    "import pandas as pd\n",
    "from sctokenizer import CppTokenizer\n",
    "from sklearn.metrics import mean_squared_error\n",
    "import gensim\n",
    "from gensim.models.doc2vec import Doc2Vec, TaggedDocument\n",
    "\n",
    "def preprocess_code(code):\n",
    "    code = code.replace(';', ';\\n')\n",
    "    return code\n",
    "\n",
    "def tokenize_cpp_file(file_path):\n",
    "    tokenizer = CppTokenizer()\n",
    "    with open(file_path) as file:\n",
    "        source = file.read()\n",
    "        code = preprocess_code(source)\n",
    "        tokens = [token.token_value for token in tokenizer.tokenize(code) if token.token_value not in {'#', ';'}]\n",
    "        return tokens\n",
    "\n",
    "def read_corpus(directory, tokens_only=False):\n",
    "    output_df = pd.read_csv(output_csv)\n",
    "    for file_name in os.listdir(directory):\n",
    "        if file_name.endswith(\".txt\"):\n",
    "            submission_id = file_name.split('_')[-1].split('.')[0]\n",
    "\n",
    "            file_path = os.path.join(directory, file_name)\n",
    "            tokens = tokenize_cpp_file(file_path)\n",
    "            expected_outcome = output_df.loc[output_df['id'] == int(submission_id)]['time_consumed_millis'].values[0]\n",
    "\n",
    "            if tokens_only:\n",
    "                if expected_outcome != 1000 and expected_outcome != 0:\n",
    "                    doc_order_test.append(int(submission_id))\n",
    "                    yield tokens\n",
    "            else:\n",
    "                if expected_outcome != 1000 and expected_outcome != 0:\n",
    "                    yield TaggedDocument(tokens, [submission_id])\n",
    "\n",
    "train_directory = \"code_files/Train\"\n",
    "test_directory=\"code_files/Test\"\n",
    "output_csv = \"output.csv\"\n",
    "doc_order_test = []\n",
    "train_corpus = list(read_corpus(train_directory))\n",
    "test_corpus = list(read_corpus(test_directory, True))"
   ]
  },
  {
   "cell_type": "markdown",
   "id": "4ce4ef61-9314-4c89-8d3c-7a64811442f3",
   "metadata": {},
   "source": [
    "#### Creating model with a training corpus"
   ]
  },
  {
   "cell_type": "code",
   "execution_count": 37,
   "id": "18583235-6c0d-46b3-bb38-87ec6ef0dfa1",
   "metadata": {
    "tags": []
   },
   "outputs": [],
   "source": [
    "model_dbow = Doc2Vec(dm=0, vector_size=300, sample = 0, epochs=10)\n",
    "model_dbow.build_vocab(train_corpus)\n",
    "model_dbow.train(train_corpus, total_examples=model_dbow.corpus_count, epochs=model_dbow.epochs)"
   ]
  },
  {
   "cell_type": "markdown",
   "id": "4dd989a0-e6f7-40c4-aeb9-c673df5ce004",
   "metadata": {},
   "source": [
    "#### Extract document embeddings for training corpus"
   ]
  },
  {
   "cell_type": "code",
   "execution_count": 7,
   "id": "97284daf-e4f4-4d31-b302-eb889ef0dfb3",
   "metadata": {
    "tags": []
   },
   "outputs": [],
   "source": [
    "def extract_vectors(corpus, doc_order, isTrain=True):\n",
    "    output_df = pd.read_csv(output_csv) \n",
    "    vectors = []\n",
    "    execution_times = []\n",
    "    for i,doc in enumerate(corpus):\n",
    "        execution_time = 0\n",
    "        if isTrain:\n",
    "            vector = model_dbow.infer_vector(doc.words)\n",
    "            execution_time = output_df.loc[output_df['id'] == int(doc.tags[0])]['time_consumed_millis'].values[0]\n",
    "        else:\n",
    "            execution_time = output_df.loc[output_df['id'] == doc_order[i]]['time_consumed_millis'].values[0]\n",
    "            vector = model_dbow.infer_vector(doc) \n",
    "        vectors.append(vector)\n",
    "\n",
    "        execution_times.append(execution_time)\n",
    "    return (vectors, execution_times)\n",
    "(train_embeddings, train_execution_times) = extract_vectors(train_corpus, [])\n",
    "(test_embeddings, test_execution_times) = extract_vectors(test_corpus, doc_order_test, False)"
   ]
  },
  {
   "cell_type": "markdown",
   "id": "c614aa1d-0a8e-44db-8914-72b6a3e75c57",
   "metadata": {},
   "source": [
    "#### Testing model performance\n",
    "We will test the Doc2Vec approach with the same models as regular BoW model"
   ]
  },
  {
   "cell_type": "markdown",
   "id": "8a37211e-4384-4de4-b31a-fbe5c15163e2",
   "metadata": {},
   "source": [
    "#### MLPRegressor"
   ]
  },
  {
   "cell_type": "code",
   "execution_count": null,
   "id": "9fbab936-590f-40c4-9e9d-64464d051889",
   "metadata": {
    "tags": []
   },
   "outputs": [],
   "source": [
    "from sklearn.neural_network import MLPRegressor\n",
    "import numpy as np\n",
    "\n",
    "mlpreg = MLPRegressor(hidden_layer_sizes=(model_dbow.vector_size,), alpha=0.5, max_iter=500, random_state=42)\n",
    "mlpreg.fit(train_embeddings, train_execution_times)\n",
    "\n",
    "predicted_values = mlpreg.predict(test_embeddings)\n",
    "\n",
    "mse = mean_squared_error(test_execution_times, predicted_values)\n",
    "print(\"Root Mean Squared Error (RMSE) of the MLP regressor model:\", np.sqrt(mse))"
   ]
  },
  {
   "cell_type": "markdown",
   "id": "ea45b66e-2649-4a60-bee2-f3200d92ad4d",
   "metadata": {},
   "source": [
    "Root Mean Squared Error (RMSE) of the MLP regressor mode: 129.69"
   ]
  },
  {
   "cell_type": "markdown",
   "id": "2b038c9f-4d33-42c0-bf21-276a64b19d90",
   "metadata": {},
   "source": [
    "#### XGBoost"
   ]
  },
  {
   "cell_type": "code",
   "execution_count": null,
   "id": "d5e2083e-f4f2-4dec-8aed-03d75f08c15c",
   "metadata": {
    "tags": []
   },
   "outputs": [],
   "source": [
    "import xgboost as xgb\n",
    "\n",
    "dtrain = xgb.DMatrix(train_embeddings, label=train_execution_times)\n",
    "dtest = xgb.DMatrix(test_embeddings, label=test_execution_times)\n",
    "\n",
    "params = {\n",
    "    'objective': 'reg:squarederror',  \n",
    "    'eval_metric': 'rmse',\n",
    "    'max_depth': 4\n",
    "}\n",
    "\n",
    "num_rounds = 1500\n",
    "xgb_model = xgb.train(params, dtrain, num_rounds)\n",
    "\n",
    "y_pred = xgb_model.predict(dtest)\n",
    "\n",
    "mse = mean_squared_error(test_execution_times, y_pred)\n",
    "print(\"Root Mean Squared Error (RMSE) of the XGBoost model:\", np.sqrt(mse))"
   ]
  },
  {
   "cell_type": "markdown",
   "id": "4992a399-7ad2-484d-bff6-4b5e195747d8",
   "metadata": {},
   "source": [
    "Root Mean Squared Error (RMSE) of the XGBoost model: 141.26"
   ]
  },
  {
   "cell_type": "markdown",
   "id": "67c78c6d-4566-4676-b88f-976d691b4aa7",
   "metadata": {},
   "source": [
    "### **Code2Vec**\n",
    "In this section, the Code2Vec model will be setup. We need to change the dataset that is currently being used to be able to use the Code2Vec model as it was designed for Java. "
   ]
  },
  {
   "cell_type": "code",
   "execution_count": null,
   "id": "8717a01b-65e4-4636-9365-3c88e0917dd3",
   "metadata": {},
   "outputs": [],
   "source": []
  }
 ],
 "metadata": {
  "kernelspec": {
   "display_name": "Python 3 (ipykernel)",
   "language": "python",
   "name": "python3"
  },
  "language_info": {
   "codemirror_mode": {
    "name": "ipython",
    "version": 3
   },
   "file_extension": ".py",
   "mimetype": "text/x-python",
   "name": "python",
   "nbconvert_exporter": "python",
   "pygments_lexer": "ipython3",
   "version": "3.11.5"
  }
 },
 "nbformat": 4,
 "nbformat_minor": 5
}
